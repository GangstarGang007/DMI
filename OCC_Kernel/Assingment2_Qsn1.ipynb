{
 "cells": [
  {
   "cell_type": "code",
   "execution_count": 1,
   "id": "indonesian-canyon",
   "metadata": {},
   "outputs": [],
   "source": [
    "import matplotlib.pyplot as plt\n",
    "import numpy as np\n",
    "import pandas as pd\n",
    "from sklearn.model_selection import train_test_split\n",
    "from sklearn.svm import OneClassSVM\n",
    "from sklearn.metrics import accuracy_score, precision_score, recall_score, roc_auc_score, f1_score \n",
    "from sklearn.ensemble import IsolationForest\n",
    "from sklearn.neighbors import LocalOutlierFactor\n",
    "from sklearn import tree"
   ]
  },
  {
   "cell_type": "code",
   "execution_count": 2,
   "id": "wrong-penny",
   "metadata": {},
   "outputs": [],
   "source": [
    "data = pd.read_csv(\"iris.csv\")\n",
    "data = data.to_numpy()"
   ]
  },
  {
   "cell_type": "code",
   "execution_count": 3,
   "id": "shaped-school",
   "metadata": {},
   "outputs": [
    {
     "data": {
      "text/plain": [
       "array([[5.1, 3.5, 1.4, 0.2, 'Iris-setosa'],\n",
       "       [4.9, 3.0, 1.4, 0.2, 'Iris-setosa'],\n",
       "       [4.7, 3.2, 1.3, 0.2, 'Iris-setosa'],\n",
       "       [4.6, 3.1, 1.5, 0.2, 'Iris-setosa'],\n",
       "       [5.0, 3.6, 1.4, 0.2, 'Iris-setosa'],\n",
       "       [5.4, 3.9, 1.7, 0.4, 'Iris-setosa'],\n",
       "       [4.6, 3.4, 1.4, 0.3, 'Iris-setosa'],\n",
       "       [5.0, 3.4, 1.5, 0.2, 'Iris-setosa'],\n",
       "       [4.4, 2.9, 1.4, 0.2, 'Iris-setosa'],\n",
       "       [4.9, 3.1, 1.5, 0.1, 'Iris-setosa'],\n",
       "       [5.4, 3.7, 1.5, 0.2, 'Iris-setosa'],\n",
       "       [4.8, 3.4, 1.6, 0.2, 'Iris-setosa'],\n",
       "       [4.8, 3.0, 1.4, 0.1, 'Iris-setosa'],\n",
       "       [4.3, 3.0, 1.1, 0.1, 'Iris-setosa'],\n",
       "       [5.8, 4.0, 1.2, 0.2, 'Iris-setosa'],\n",
       "       [5.7, 4.4, 1.5, 0.4, 'Iris-setosa'],\n",
       "       [5.4, 3.9, 1.3, 0.4, 'Iris-setosa'],\n",
       "       [5.1, 3.5, 1.4, 0.3, 'Iris-setosa'],\n",
       "       [5.7, 3.8, 1.7, 0.3, 'Iris-setosa'],\n",
       "       [5.1, 3.8, 1.5, 0.3, 'Iris-setosa'],\n",
       "       [5.4, 3.4, 1.7, 0.2, 'Iris-setosa'],\n",
       "       [5.1, 3.7, 1.5, 0.4, 'Iris-setosa'],\n",
       "       [4.6, 3.6, 1.0, 0.2, 'Iris-setosa'],\n",
       "       [5.1, 3.3, 1.7, 0.5, 'Iris-setosa'],\n",
       "       [4.8, 3.4, 1.9, 0.2, 'Iris-setosa'],\n",
       "       [5.0, 3.0, 1.6, 0.2, 'Iris-setosa'],\n",
       "       [5.0, 3.4, 1.6, 0.4, 'Iris-setosa'],\n",
       "       [5.2, 3.5, 1.5, 0.2, 'Iris-setosa'],\n",
       "       [5.2, 3.4, 1.4, 0.2, 'Iris-setosa'],\n",
       "       [4.7, 3.2, 1.6, 0.2, 'Iris-setosa'],\n",
       "       [4.8, 3.1, 1.6, 0.2, 'Iris-setosa'],\n",
       "       [5.4, 3.4, 1.5, 0.4, 'Iris-setosa'],\n",
       "       [5.2, 4.1, 1.5, 0.1, 'Iris-setosa'],\n",
       "       [5.5, 4.2, 1.4, 0.2, 'Iris-setosa'],\n",
       "       [4.9, 3.1, 1.5, 0.1, 'Iris-setosa'],\n",
       "       [5.0, 3.2, 1.2, 0.2, 'Iris-setosa'],\n",
       "       [5.5, 3.5, 1.3, 0.2, 'Iris-setosa'],\n",
       "       [4.9, 3.1, 1.5, 0.1, 'Iris-setosa'],\n",
       "       [4.4, 3.0, 1.3, 0.2, 'Iris-setosa'],\n",
       "       [5.1, 3.4, 1.5, 0.2, 'Iris-setosa'],\n",
       "       [5.0, 3.5, 1.3, 0.3, 'Iris-setosa'],\n",
       "       [4.5, 2.3, 1.3, 0.3, 'Iris-setosa'],\n",
       "       [4.4, 3.2, 1.3, 0.2, 'Iris-setosa'],\n",
       "       [5.0, 3.5, 1.6, 0.6, 'Iris-setosa'],\n",
       "       [5.1, 3.8, 1.9, 0.4, 'Iris-setosa'],\n",
       "       [4.8, 3.0, 1.4, 0.3, 'Iris-setosa'],\n",
       "       [5.1, 3.8, 1.6, 0.2, 'Iris-setosa'],\n",
       "       [4.6, 3.2, 1.4, 0.2, 'Iris-setosa'],\n",
       "       [5.3, 3.7, 1.5, 0.2, 'Iris-setosa'],\n",
       "       [5.0, 3.3, 1.4, 0.2, 'Iris-setosa'],\n",
       "       [7.0, 3.2, 4.7, 1.4, 'Iris-versicolor'],\n",
       "       [6.4, 3.2, 4.5, 1.5, 'Iris-versicolor'],\n",
       "       [6.9, 3.1, 4.9, 1.5, 'Iris-versicolor'],\n",
       "       [5.5, 2.3, 4.0, 1.3, 'Iris-versicolor'],\n",
       "       [6.5, 2.8, 4.6, 1.5, 'Iris-versicolor'],\n",
       "       [5.7, 2.8, 4.5, 1.3, 'Iris-versicolor'],\n",
       "       [6.3, 3.3, 4.7, 1.6, 'Iris-versicolor'],\n",
       "       [4.9, 2.4, 3.3, 1.0, 'Iris-versicolor'],\n",
       "       [6.6, 2.9, 4.6, 1.3, 'Iris-versicolor'],\n",
       "       [5.2, 2.7, 3.9, 1.4, 'Iris-versicolor'],\n",
       "       [5.0, 2.0, 3.5, 1.0, 'Iris-versicolor'],\n",
       "       [5.9, 3.0, 4.2, 1.5, 'Iris-versicolor'],\n",
       "       [6.0, 2.2, 4.0, 1.0, 'Iris-versicolor'],\n",
       "       [6.1, 2.9, 4.7, 1.4, 'Iris-versicolor'],\n",
       "       [5.6, 2.9, 3.6, 1.3, 'Iris-versicolor'],\n",
       "       [6.7, 3.1, 4.4, 1.4, 'Iris-versicolor'],\n",
       "       [5.6, 3.0, 4.5, 1.5, 'Iris-versicolor'],\n",
       "       [5.8, 2.7, 4.1, 1.0, 'Iris-versicolor'],\n",
       "       [6.2, 2.2, 4.5, 1.5, 'Iris-versicolor'],\n",
       "       [5.6, 2.5, 3.9, 1.1, 'Iris-versicolor'],\n",
       "       [5.9, 3.2, 4.8, 1.8, 'Iris-versicolor'],\n",
       "       [6.1, 2.8, 4.0, 1.3, 'Iris-versicolor'],\n",
       "       [6.3, 2.5, 4.9, 1.5, 'Iris-versicolor'],\n",
       "       [6.1, 2.8, 4.7, 1.2, 'Iris-versicolor'],\n",
       "       [6.4, 2.9, 4.3, 1.3, 'Iris-versicolor'],\n",
       "       [6.6, 3.0, 4.4, 1.4, 'Iris-versicolor'],\n",
       "       [6.8, 2.8, 4.8, 1.4, 'Iris-versicolor'],\n",
       "       [6.7, 3.0, 5.0, 1.7, 'Iris-versicolor'],\n",
       "       [6.0, 2.9, 4.5, 1.5, 'Iris-versicolor'],\n",
       "       [5.7, 2.6, 3.5, 1.0, 'Iris-versicolor'],\n",
       "       [5.5, 2.4, 3.8, 1.1, 'Iris-versicolor'],\n",
       "       [5.5, 2.4, 3.7, 1.0, 'Iris-versicolor'],\n",
       "       [5.8, 2.7, 3.9, 1.2, 'Iris-versicolor'],\n",
       "       [6.0, 2.7, 5.1, 1.6, 'Iris-versicolor'],\n",
       "       [5.4, 3.0, 4.5, 1.5, 'Iris-versicolor'],\n",
       "       [6.0, 3.4, 4.5, 1.6, 'Iris-versicolor'],\n",
       "       [6.7, 3.1, 4.7, 1.5, 'Iris-versicolor'],\n",
       "       [6.3, 2.3, 4.4, 1.3, 'Iris-versicolor'],\n",
       "       [5.6, 3.0, 4.1, 1.3, 'Iris-versicolor'],\n",
       "       [5.5, 2.5, 4.0, 1.3, 'Iris-versicolor'],\n",
       "       [5.5, 2.6, 4.4, 1.2, 'Iris-versicolor'],\n",
       "       [6.1, 3.0, 4.6, 1.4, 'Iris-versicolor'],\n",
       "       [5.8, 2.6, 4.0, 1.2, 'Iris-versicolor'],\n",
       "       [5.0, 2.3, 3.3, 1.0, 'Iris-versicolor'],\n",
       "       [5.6, 2.7, 4.2, 1.3, 'Iris-versicolor'],\n",
       "       [5.7, 3.0, 4.2, 1.2, 'Iris-versicolor'],\n",
       "       [5.7, 2.9, 4.2, 1.3, 'Iris-versicolor'],\n",
       "       [6.2, 2.9, 4.3, 1.3, 'Iris-versicolor'],\n",
       "       [5.1, 2.5, 3.0, 1.1, 'Iris-versicolor'],\n",
       "       [5.7, 2.8, 4.1, 1.3, 'Iris-versicolor'],\n",
       "       [6.3, 3.3, 6.0, 2.5, 'Iris-virginica'],\n",
       "       [5.8, 2.7, 5.1, 1.9, 'Iris-virginica'],\n",
       "       [7.1, 3.0, 5.9, 2.1, 'Iris-virginica'],\n",
       "       [6.3, 2.9, 5.6, 1.8, 'Iris-virginica'],\n",
       "       [6.5, 3.0, 5.8, 2.2, 'Iris-virginica'],\n",
       "       [7.6, 3.0, 6.6, 2.1, 'Iris-virginica'],\n",
       "       [4.9, 2.5, 4.5, 1.7, 'Iris-virginica'],\n",
       "       [7.3, 2.9, 6.3, 1.8, 'Iris-virginica'],\n",
       "       [6.7, 2.5, 5.8, 1.8, 'Iris-virginica'],\n",
       "       [7.2, 3.6, 6.1, 2.5, 'Iris-virginica'],\n",
       "       [6.5, 3.2, 5.1, 2.0, 'Iris-virginica'],\n",
       "       [6.4, 2.7, 5.3, 1.9, 'Iris-virginica'],\n",
       "       [6.8, 3.0, 5.5, 2.1, 'Iris-virginica'],\n",
       "       [5.7, 2.5, 5.0, 2.0, 'Iris-virginica'],\n",
       "       [5.8, 2.8, 5.1, 2.4, 'Iris-virginica'],\n",
       "       [6.4, 3.2, 5.3, 2.3, 'Iris-virginica'],\n",
       "       [6.5, 3.0, 5.5, 1.8, 'Iris-virginica'],\n",
       "       [7.7, 3.8, 6.7, 2.2, 'Iris-virginica'],\n",
       "       [7.7, 2.6, 6.9, 2.3, 'Iris-virginica'],\n",
       "       [6.0, 2.2, 5.0, 1.5, 'Iris-virginica'],\n",
       "       [6.9, 3.2, 5.7, 2.3, 'Iris-virginica'],\n",
       "       [5.6, 2.8, 4.9, 2.0, 'Iris-virginica'],\n",
       "       [7.7, 2.8, 6.7, 2.0, 'Iris-virginica'],\n",
       "       [6.3, 2.7, 4.9, 1.8, 'Iris-virginica'],\n",
       "       [6.7, 3.3, 5.7, 2.1, 'Iris-virginica'],\n",
       "       [7.2, 3.2, 6.0, 1.8, 'Iris-virginica'],\n",
       "       [6.2, 2.8, 4.8, 1.8, 'Iris-virginica'],\n",
       "       [6.1, 3.0, 4.9, 1.8, 'Iris-virginica'],\n",
       "       [6.4, 2.8, 5.6, 2.1, 'Iris-virginica'],\n",
       "       [7.2, 3.0, 5.8, 1.6, 'Iris-virginica'],\n",
       "       [7.4, 2.8, 6.1, 1.9, 'Iris-virginica'],\n",
       "       [7.9, 3.8, 6.4, 2.0, 'Iris-virginica'],\n",
       "       [6.4, 2.8, 5.6, 2.2, 'Iris-virginica'],\n",
       "       [6.3, 2.8, 5.1, 1.5, 'Iris-virginica'],\n",
       "       [6.1, 2.6, 5.6, 1.4, 'Iris-virginica'],\n",
       "       [7.7, 3.0, 6.1, 2.3, 'Iris-virginica'],\n",
       "       [6.3, 3.4, 5.6, 2.4, 'Iris-virginica'],\n",
       "       [6.4, 3.1, 5.5, 1.8, 'Iris-virginica'],\n",
       "       [6.0, 3.0, 4.8, 1.8, 'Iris-virginica'],\n",
       "       [6.9, 3.1, 5.4, 2.1, 'Iris-virginica'],\n",
       "       [6.7, 3.1, 5.6, 2.4, 'Iris-virginica'],\n",
       "       [6.9, 3.1, 5.1, 2.3, 'Iris-virginica'],\n",
       "       [5.8, 2.7, 5.1, 1.9, 'Iris-virginica'],\n",
       "       [6.8, 3.2, 5.9, 2.3, 'Iris-virginica'],\n",
       "       [6.7, 3.3, 5.7, 2.5, 'Iris-virginica'],\n",
       "       [6.7, 3.0, 5.2, 2.3, 'Iris-virginica'],\n",
       "       [6.3, 2.5, 5.0, 1.9, 'Iris-virginica'],\n",
       "       [6.5, 3.0, 5.2, 2.0, 'Iris-virginica'],\n",
       "       [6.2, 3.4, 5.4, 2.3, 'Iris-virginica'],\n",
       "       [5.9, 3.0, 5.1, 1.8, 'Iris-virginica']], dtype=object)"
      ]
     },
     "execution_count": 3,
     "metadata": {},
     "output_type": "execute_result"
    }
   ],
   "source": [
    "data"
   ]
  },
  {
   "cell_type": "code",
   "execution_count": 4,
   "id": "confused-proceeding",
   "metadata": {},
   "outputs": [],
   "source": [
    "def OneClassValidation(data, c):\n",
    "    df = np.copy(data)\n",
    "    #Three different classes.\n",
    "    y= ['Iris-setosa', 'Iris-versicolor', 'Iris-virginica']    \n",
    "    for f in range(3):\n",
    "        if f == c:\n",
    "            df[:,4][df[:, 4] == y[c]] = 0\n",
    "        else:\n",
    "            df[:,4][df[:, 4] == y[f]] = 1   \n",
    "    return df[:, :4], df[:,-1]"
   ]
  },
  {
   "cell_type": "code",
   "execution_count": 5,
   "id": "stuffed-conditioning",
   "metadata": {},
   "outputs": [],
   "source": [
    "# make a prediction with a KDE model\n",
    "def predictionUsingKde(model, trainX, testX):\n",
    "    c= np.vstack((trainX, testX))    \n",
    "    yy = model.fit_predict(c)    \n",
    "    return yy[len(trainX):]\n",
    "\n",
    "def KDEScore(X_train, X_test, y_train, y_test):\n",
    "    model = LocalOutlierFactor(contamination=0.5)    \n",
    "    X_train = X_train[y_train==0]    \n",
    "    yy = predictionUsingKde(model, X_train, X_test)    \n",
    "    y_test[y_test == 1] = -1\n",
    "    y_test[y_test == 0] = 1    \n",
    "    score=f1_score(y_test.astype(np.int64), yy, pos_label=-1)    \n",
    "    return score"
   ]
  },
  {
   "cell_type": "code",
   "execution_count": 6,
   "id": "substantial-quantum",
   "metadata": {},
   "outputs": [],
   "source": [
    "def OneClassFeatures(X_train, X_test, y_train, y_test):\n",
    "    dt = tree.DecisionTreeClassifier(max_depth=8, min_samples_leaf=5)\n",
    "    X_train_float = np.array(X_train).astype(\"float\")\n",
    "    y_train_int = np.array(y_train).astype(\"int\")\n",
    "    dt.fit(X_train_float, y_train_int)\n",
    "    res = dt.predict(X_test)\n",
    "    res = res.astype(int)\n",
    "    res = np.reshape(res, len(res))\n",
    "    y_test = np.reshape(y_test, len(y_test))\n",
    "    misclassified = np.bitwise_xor(res, y_test)\n",
    "    misclassified = misclassified.astype(float)\n",
    "    aux = sum(misclassified)/len(X_test)\n",
    "    imp = dt.feature_importances_        \n",
    "    indices = np.nonzero(imp)            \n",
    "    X_train_float = X_train_float[:,indices]    \n",
    "    X_train_float = np.copy(X_train_float[:,0])        \n",
    "    X_test = X_test[:,indices]\n",
    "    X_test = np.copy(X_test[:,0])    \n",
    "    return aux, X_test, res"
   ]
  },
  {
   "cell_type": "code",
   "execution_count": 7,
   "id": "healthy-sense",
   "metadata": {},
   "outputs": [],
   "source": [
    "def get_scores(y_test, res):\n",
    "    y = y_test.astype(\"int\")\n",
    "    auc = roc_auc_score(y, res)\n",
    "    acc = accuracy_score(y, res) \n",
    "    print (\"Acc: %.2f, ROC/AUC: %.2f\" % (acc, auc))\n",
    "    prec = precision_score(y, res, average='macro')\n",
    "    recall = recall_score(y, res, average='macro')\n",
    "    f1 = f1_score(y, res, average='macro')\n",
    "    print (\"Average   - Prec: %.2f, Recall: %.2f, F1: %.2f\" % (prec, recall, f1))\n",
    "    prec = precision_score(y, res, average='binary', pos_label=0)\n",
    "    recall = recall_score(y, res, average='binary', pos_label=0)\n",
    "    f1 = f1_score(y, res, average='binary', pos_label=0)\n",
    "    print (\"Pos_lab:0 - Prec: %.2f, Recall: %.2f, F1: %.2f\" % (prec, recall, f1))\n",
    "    prec = precision_score(y, res, average='binary', pos_label=1)\n",
    "    recall = recall_score(y, res, average='binary', pos_label=1)\n",
    "    f1 = f1_score(y, res, average='binary', pos_label=1)\n",
    "    print (\"Pos_lab:1 - Prec: %.2f, Recall: %.2f, F1: %.2f\" % (prec, recall, f1))"
   ]
  },
  {
   "cell_type": "code",
   "execution_count": 8,
   "id": "capable-needle",
   "metadata": {},
   "outputs": [],
   "source": [
    "#Using KDE"
   ]
  },
  {
   "cell_type": "code",
   "execution_count": 9,
   "id": "molecular-swift",
   "metadata": {},
   "outputs": [],
   "source": [
    "(X_0, y_0),(X_1, y_1),(X_2, y_2) = OneClassValidation(data, 0),OneClassValidation(data, 1),OneClassValidation(data, 2)\n",
    "\n",
    "X_0_train, X_0_test, y_0_train, y_0_test = train_test_split(X_0, y_0, test_size=0.30, random_state=42)\n",
    "X_1_train, X_1_test, y_1_train, y_1_test = train_test_split(X_1, y_1, test_size=0.30, random_state=42)\n",
    "X_2_train, X_2_test, y_2_train, y_2_test = train_test_split(X_2, y_2, test_size=0.30, random_state=42)"
   ]
  },
  {
   "cell_type": "code",
   "execution_count": 10,
   "id": "cardiovascular-consent",
   "metadata": {},
   "outputs": [],
   "source": [
    "f1_0,f1_1,f1_2 = KDEScore(X_0_train, X_0_test, y_0_train, y_0_test),KDEScore(X_1_train, X_1_test, y_1_train, y_1_test),KDEScore(X_2_train, X_2_test, y_2_train, y_2_test)\n",
    "\n",
    "(X_0, y_0),(X_1, y_1),(X_2, y_2)= OneClassValidation(data, 0),OneClassValidation(data, 1),OneClassValidation(data, 2)\n",
    "\n",
    "X_0_train, X_0_test, y_0_train, y_0_test = train_test_split(X_0, y_0, test_size=0.30)\n",
    "X_1_train, X_1_test, y_1_train, y_1_test = train_test_split(X_1, y_1, test_size=0.30)\n",
    "X_2_train, X_2_test, y_2_train, y_2_test = train_test_split(X_2, y_2, test_size=0.30)"
   ]
  },
  {
   "cell_type": "code",
   "execution_count": 11,
   "id": "incorporated-royal",
   "metadata": {},
   "outputs": [
    {
     "name": "stdout",
     "output_type": "stream",
     "text": [
      "0.7629261701116655\n"
     ]
    }
   ],
   "source": [
    "res_KDE = (f1_0+f1_1+f1_2)/3\n",
    "#Average F1 score.\n",
    "print(res_KDE)"
   ]
  },
  {
   "cell_type": "code",
   "execution_count": 12,
   "id": "radio-collection",
   "metadata": {},
   "outputs": [],
   "source": [
    "#Using the Tree"
   ]
  },
  {
   "cell_type": "code",
   "execution_count": 13,
   "id": "atomic-court",
   "metadata": {},
   "outputs": [
    {
     "name": "stdout",
     "output_type": "stream",
     "text": [
      "Misclassified samples: 0.0\n",
      "Misclassified samples: 0.13333333333333333\n",
      "Misclassified samples: 0.06666666666666667\n"
     ]
    }
   ],
   "source": [
    "aux_0, X_0_test_new, res_0 = OneClassFeatures(X_0_train, X_0_test, y_0_train, y_0_test)\n",
    "aux_1, X_1_test_new, res_1 = OneClassFeatures(X_1_train, X_1_test, y_1_train, y_1_test)\n",
    "aux_2, X_2_test_new, res_2 = OneClassFeatures(X_2_train, X_2_test, y_2_train, y_2_test)\n",
    "\n",
    "print (\"Misclassified samples:\", aux_0)\n",
    "print (\"Misclassified samples:\", aux_1)\n",
    "print (\"Misclassified samples:\", aux_2)"
   ]
  },
  {
   "cell_type": "code",
   "execution_count": 14,
   "id": "important-relation",
   "metadata": {},
   "outputs": [
    {
     "name": "stdout",
     "output_type": "stream",
     "text": [
      "For Iris-setosa vs Rest Classes\n",
      "Acc: 1.00, ROC/AUC: 1.00\n",
      "Average   - Prec: 1.00, Recall: 1.00, F1: 1.00\n",
      "Pos_lab:0 - Prec: 1.00, Recall: 1.00, F1: 1.00\n",
      "Pos_lab:1 - Prec: 1.00, Recall: 1.00, F1: 1.00\n",
      "\n",
      "For Iris-versicolor vs Rest Classes\n",
      "Acc: 0.87, ROC/AUC: 0.84\n",
      "Average   - Prec: 0.84, Recall: 0.84, F1: 0.84\n",
      "Pos_lab:0 - Prec: 0.79, Recall: 0.79, F1: 0.79\n",
      "Pos_lab:1 - Prec: 0.90, Recall: 0.90, F1: 0.90\n",
      "\n",
      "For Iris-virginica vs Rest Classes\n",
      "Acc: 0.93, ROC/AUC: 0.94\n",
      "Average   - Prec: 0.93, Recall: 0.94, F1: 0.93\n",
      "Pos_lab:0 - Prec: 0.86, Recall: 1.00, F1: 0.92\n",
      "Pos_lab:1 - Prec: 1.00, Recall: 0.89, F1: 0.94\n"
     ]
    }
   ],
   "source": [
    "#For each class vs the rest all classes\n",
    "\n",
    "print(\"For Iris-setosa vs Rest Classes\")\n",
    "get_scores(y_0_test, res_0)\n",
    "\n",
    "print(\"\\nFor Iris-versicolor vs Rest Classes\")\n",
    "get_scores(y_1_test, res_1)\n",
    "\n",
    "print(\"\\nFor Iris-virginica vs Rest Classes\")\n",
    "get_scores(y_2_test, res_2)\n"
   ]
  },
  {
   "cell_type": "code",
   "execution_count": 15,
   "id": "healthy-disability",
   "metadata": {},
   "outputs": [],
   "source": [
    "#Avg F1 score for oneclassclassification using tree=> Sum of all(F1 scores/3)"
   ]
  }
 ],
 "metadata": {
  "kernelspec": {
   "display_name": "Python 3",
   "language": "python",
   "name": "python3"
  },
  "language_info": {
   "codemirror_mode": {
    "name": "ipython",
    "version": 3
   },
   "file_extension": ".py",
   "mimetype": "text/x-python",
   "name": "python",
   "nbconvert_exporter": "python",
   "pygments_lexer": "ipython3",
   "version": "3.9.2"
  }
 },
 "nbformat": 4,
 "nbformat_minor": 5
}
