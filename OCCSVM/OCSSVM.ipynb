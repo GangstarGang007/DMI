{
 "cells": [
  {
   "cell_type": "code",
   "execution_count": 7,
   "metadata": {
    "id": "8qbKf0oC7Oh4"
   },
   "outputs": [],
   "source": [
    "import numpy as np\n",
    "import pandas as pd\n",
    "import matplotlib.pyplot as plt\n",
    "import matplotlib as mpl\n",
    "import numpy as np \n",
    "import pandas as pd \n",
    "import pandas as pd\n",
    "import numpy as np\n",
    "from sklearn import svm\n",
    "from sklearn.svm import SVC\n",
    "from sklearn.model_selection import train_test_split\n",
    "from sklearn import metrics\n",
    "from sklearn.metrics import confusion_matrix\n",
    "from sklearn.model_selection import KFold\n",
    "from sklearn.model_selection import cross_val_score\n",
    "from sklearn.model_selection import GridSearchCV\n",
    "import matplotlib.pyplot as plt\n",
    "import seaborn as sns\n",
    "from sklearn.preprocessing import scale\n",
    "from sklearn.metrics import matthews_corrcoef\n",
    "import os\n"
   ]
  },
  {
   "cell_type": "raw",
   "metadata": {},
   "source": [
    " # Letter recognition data set has 26 classes , but for ine class classification we need only two and one class has to be outlier so less % of data, i am dividing alphabets into two classes to obtain the results"
   ]
  },
  {
   "cell_type": "code",
   "execution_count": 8,
   "metadata": {},
   "outputs": [
    {
     "name": "stdout",
     "output_type": "stream",
     "text": [
      "      letter  xbox  ybox  width  height  onpix  xbar  ybar  x2bar  y2bar  \\\n",
      "0          T     2     8      3       5      1     8    13      0      6   \n",
      "1          I     5    12      3       7      2    10     5      5      4   \n",
      "2          D     4    11      6       8      6    10     6      2      6   \n",
      "3          N     7    11      6       6      3     5     9      4      6   \n",
      "4          G     2     1      3       1      1     8     6      6      6   \n",
      "...      ...   ...   ...    ...     ...    ...   ...   ...    ...    ...   \n",
      "19995      D     2     2      3       3      2     7     7      7      6   \n",
      "19996      C     7    10      8       8      4     4     8      6      9   \n",
      "19997      T     6     9      6       7      5     6    11      3      7   \n",
      "19998      S     2     3      4       2      1     8     7      2      6   \n",
      "19999      A     4     9      6       6      2     9     5      3      1   \n",
      "\n",
      "       xybar  x2br  xy2br  xege  xegvy  yege  yegvx  \n",
      "0          6    10      8     0      8     0      8  \n",
      "1         13     3      9     2      8     4     10  \n",
      "2         10     3      7     3      7     3      9  \n",
      "3          4     4     10     6     10     2      8  \n",
      "4          6     5      9     1      7     5     10  \n",
      "...      ...   ...    ...   ...    ...   ...    ...  \n",
      "19995      6     6      4     2      8     3      7  \n",
      "19996     12     9     13     2      9     3      7  \n",
      "19997     11     9      5     2     12     2      4  \n",
      "19998     10     6      8     1      9     5      8  \n",
      "19999      8     1      8     2      7     2      8  \n",
      "\n",
      "[20000 rows x 17 columns]\n"
     ]
    }
   ],
   "source": [
    "df = pd.read_csv(\"data.csv\")\n",
    "print(df)"
   ]
  },
  {
   "cell_type": "code",
   "execution_count": 9,
   "metadata": {},
   "outputs": [
    {
     "name": "stdout",
     "output_type": "stream",
     "text": [
      "      letter  xbox  ybox  width  height  onpix  xbar  ybar  x2bar  y2bar  \\\n",
      "0          1     2     8      3       5      1     8    13      0      6   \n",
      "1          0     5    12      3       7      2    10     5      5      4   \n",
      "2          0     4    11      6       8      6    10     6      2      6   \n",
      "3          0     7    11      6       6      3     5     9      4      6   \n",
      "4          0     2     1      3       1      1     8     6      6      6   \n",
      "...      ...   ...   ...    ...     ...    ...   ...   ...    ...    ...   \n",
      "19995      0     2     2      3       3      2     7     7      7      6   \n",
      "19996      0     7    10      8       8      4     4     8      6      9   \n",
      "19997      1     6     9      6       7      5     6    11      3      7   \n",
      "19998      0     2     3      4       2      1     8     7      2      6   \n",
      "19999      0     4     9      6       6      2     9     5      3      1   \n",
      "\n",
      "       xybar  x2br  xy2br  xege  xegvy  yege  yegvx  \n",
      "0          6    10      8     0      8     0      8  \n",
      "1         13     3      9     2      8     4     10  \n",
      "2         10     3      7     3      7     3      9  \n",
      "3          4     4     10     6     10     2      8  \n",
      "4          6     5      9     1      7     5     10  \n",
      "...      ...   ...    ...   ...    ...   ...    ...  \n",
      "19995      6     6      4     2      8     3      7  \n",
      "19996     12     9     13     2      9     3      7  \n",
      "19997     11     9      5     2     12     2      4  \n",
      "19998     10     6      8     1      9     5      8  \n",
      "19999      8     1      8     2      7     2      8  \n",
      "\n",
      "[20000 rows x 17 columns]\n"
     ]
    }
   ],
   "source": [
    "\n",
    "check = np.random.rand(len(df)) < 0.8\n",
    "train = df[check]\n",
    "test = df[~check]\n",
    "\n",
    "df['letter'] = df['letter'].replace(['A','B','C','D','E','F','G','H','I','J','K','L','M','N','O','P','Q','R','S'],'0')\n",
    "df['letter'] = df['letter'].replace(['T','U','V','W','X','Y','Z'],'1')\n",
    "\n",
    "letters=df\n",
    "print(letters)"
   ]
  },
  {
   "cell_type": "code",
   "execution_count": 12,
   "metadata": {},
   "outputs": [],
   "source": [
    "class OCSSVM():\n",
    "    \n",
    "    def fit(self, nu, sigma2):\n",
    "        from cvxopt import solvers, lapack, matrix, spmatrix\n",
    "        solvers.options['show_progress'] = 0\n",
    "        \n",
    "        n = self.n\n",
    "        self.sigma2 = sigma2\n",
    "        K = self.RBF_Kernel(self.X, sigma2)\n",
    "\n",
    "        P = matrix(K, tc = 'd')\n",
    "        q = matrix([0]*n, tc = 'd')\n",
    "        G = matrix(np.concatenate([np.eye(n),-np.eye(n)], axis = 0), tc = 'd')\n",
    "        h_value = [1./(n * nu)]*n\n",
    "        h_value.extend([0]*n)\n",
    "        h = matrix(h_value, tc = 'd')\n",
    "        A = matrix(np.reshape([1]*n, (1,n)), tc = 'd')\n",
    "        b = matrix(1, tc = 'd')\n",
    "\n",
    "        sol = solvers.qp(P,q,G,h,A,b)\n",
    "        self.alpha = np.array(sol['x'])\n",
    "        ix_in = np.where((self.alpha > 1e-5) & (self.alpha < 1./(n*nu)))[0][0]\n",
    "        self.rho = np.inner(np.reshape(self.alpha, (1,n)), K[:,ix_in])\n",
    "        pass\n",
    "\n",
    "    def predict(self, newData):\n",
    "        K = self.RBF_Kernel(self.X, self.sigma2, newData)\n",
    "        return np.transpose(np.dot(np.reshape(self.alpha, (1,self.n)), K) - self.rho)"
   ]
  },
  {
   "cell_type": "code",
   "execution_count": 13,
   "metadata": {
    "id": "qlqcBBVk8RBT"
   },
   "outputs": [
    {
     "name": "stdout",
     "output_type": "stream",
     "text": [
      "Dimensions:  (20000, 17) \n",
      "\n",
      "<class 'pandas.core.frame.DataFrame'>\n",
      "RangeIndex: 20000 entries, 0 to 19999\n",
      "Data columns (total 17 columns):\n",
      " #   Column  Non-Null Count  Dtype \n",
      "---  ------  --------------  ----- \n",
      " 0   letter  20000 non-null  object\n",
      " 1   xbox    20000 non-null  int64 \n",
      " 2   ybox    20000 non-null  int64 \n",
      " 3   width   20000 non-null  int64 \n",
      " 4   height  20000 non-null  int64 \n",
      " 5   onpix   20000 non-null  int64 \n",
      " 6   xbar    20000 non-null  int64 \n",
      " 7   ybar    20000 non-null  int64 \n",
      " 8   x2bar   20000 non-null  int64 \n",
      " 9   y2bar   20000 non-null  int64 \n",
      " 10  xybar   20000 non-null  int64 \n",
      " 11  x2br    20000 non-null  int64 \n",
      " 12  xy2br   20000 non-null  int64 \n",
      " 13  xege    20000 non-null  int64 \n",
      " 14  xegvy   20000 non-null  int64 \n",
      " 15  yege    20000 non-null  int64 \n",
      " 16  yegvx   20000 non-null  int64 \n",
      "dtypes: int64(16), object(1)\n",
      "memory usage: 2.6+ MB\n",
      "None\n",
      "Index(['letter', 'xbox', 'ybox', 'width', 'height', 'onpix', 'xbar', 'ybar',\n",
      "       'x2bar', 'y2bar', 'xybar', 'x2br', 'xy2br', 'xege', 'xegvy', 'yege',\n",
      "       'yegvx'],\n",
      "      dtype='object')\n"
     ]
    }
   ],
   "source": [
    "print(\"Dimensions: \", letters.shape, \"\\n\")\n",
    "print(letters.info())\n",
    "letters.head()\n",
    "print(letters.columns)"
   ]
  },
  {
   "cell_type": "markdown",
   "metadata": {},
   "source": [
    "Using normal SVM"
   ]
  },
  {
   "cell_type": "code",
   "execution_count": 14,
   "metadata": {
    "id": "GMOwZwvwR4Nw"
   },
   "outputs": [
    {
     "name": "stdout",
     "output_type": "stream",
     "text": [
      "accuracy: 0.8716666666666667 \n",
      "\n",
      "[[4117  277]\n",
      " [ 493 1113]]\n",
      "MCC: 0.6611128302290081 \n",
      "\n"
     ]
    }
   ],
   "source": [
    "letters.columns = ['letter', 'xbox', 'ybox', 'width', 'height', 'onpix', 'xbar',\n",
    "       'ybar', 'x2bar', 'y2bar', 'xybar', 'x2ybar', 'xy2bar', 'xedge',\n",
    "       'xedgey', 'yedge', 'yedgex']\n",
    "order = list(np.sort(letters['letter'].unique()))\n",
    "X = letters.drop(\"letter\", axis = 1)\n",
    "y = letters['letter']\n",
    "# scaling the features\n",
    "X_scaled = scale(X)\n",
    "\n",
    "# train test split\n",
    "X_train, X_test, y_train, y_test = train_test_split(X_scaled, y, test_size = 0.3, random_state = 101)\n",
    "# linear model\n",
    "\n",
    "model_linear = SVC(kernel='linear')\n",
    "model_linear.fit(X_train, y_train)\n",
    "\n",
    "# predict\n",
    "y_pred = model_linear.predict(X_test)\n",
    "\n",
    "\n",
    "# accuracy\n",
    "print(\"accuracy:\", metrics.accuracy_score(y_true=y_test, y_pred=y_pred), \"\\n\")\n",
    "\n",
    "# cm\n",
    "print(metrics.confusion_matrix(y_true=y_test, y_pred=y_pred))\n",
    "#MCC coefficient\n",
    "print(\"MCC:\",  matthews_corrcoef(y_true=y_test, y_pred=y_pred), \"\\n\")"
   ]
  },
  {
   "cell_type": "code",
   "execution_count": 15,
   "metadata": {},
   "outputs": [
    {
     "name": "stdout",
     "output_type": "stream",
     "text": [
      "accuracy: 0.9661666666666666 \n",
      "\n",
      "[[4339   55]\n",
      " [ 148 1458]]\n",
      "MCC: 0.9128253916125415 \n",
      "\n"
     ]
    }
   ],
   "source": [
    "# model\n",
    "non_linear_model = SVC(kernel='rbf')\n",
    "\n",
    "# fit\n",
    "non_linear_model.fit(X_train, y_train)\n",
    "\n",
    "# predict\n",
    "y_pred = non_linear_model.predict(X_test)\n",
    "\n",
    "\n",
    "# accuracy\n",
    "print(\"accuracy:\", metrics.accuracy_score(y_true=y_test, y_pred=y_pred), \"\\n\")\n",
    "\n",
    "# cm\n",
    "print(metrics.confusion_matrix(y_true=y_test, y_pred=y_pred))\n",
    "#mcc coefficient\n",
    "print(\"MCC:\",  matthews_corrcoef(y_true=y_test, y_pred=y_pred), \"\\n\")"
   ]
  },
  {
   "cell_type": "raw",
   "metadata": {},
   "source": [
    "#Selecting outliers\n",
    "\n",
    "y_train=letters.loc[letters['letter'] == '1']\n",
    "y_train = y_train.drop(\"letter\", axis = 1)\n",
    "print(letters)\n",
    "print(y_train.columns)\n",
    "clf=svm.OneClassSVM(nu=0.1, kernel=\"rbf\", gamma=0.1)\n",
    "#since this is one a one class classifier we are only passing one class as orgument\n",
    "clf.fit(X_train)\n",
    "y_pred_train = clf.predict(X_train)\n",
    "y_pred_test = clf.predict(X_test)\n",
    "y_pred_outliers = clf.predict(y_train)\n",
    "n_error_train = y_pred_train[y_pred_train == -1].size\n",
    "n_error_test = y_pred_test[y_pred_test == -1].size\n",
    "n_error_outliers = y_pred_outliers[y_pred_outliers == 1].size\n",
    "\n",
    "# plot the line, the points, and the nearest vectors to the plane\n",
    "Z = clf.decision_function(np.c_[xx.ravel(), yy.ravel()])\n",
    "Z = Z.reshape(xx.shape)"
   ]
  },
  {
   "cell_type": "raw",
   "metadata": {},
   "source": [
    "\n",
    "plt.contourf(xx, yy, Z, levels=np.linspace(Z.min(), 0, 7), cmap=plt.cm.PuBu)\n",
    "a = plt.contour(xx, yy, Z, levels=[0], linewidths=2, colors='darkred')\n",
    "plt.contourf(xx, yy, Z, levels=[0, Z.max()], colors='palevioletred')\n",
    "\n",
    "s = 40\n",
    "b1 = plt.scatter(X_train[:, 0], X_train[:, 1], c='white', s=s, edgecolors='k')\n",
    "b2 = plt.scatter(X_test[:, 0], X_test[:, 1], c='blueviolet', s=s,\n",
    "                 edgecolors='k')\n",
    "c = plt.scatter(X_outliers[:, 0], X_outliers[:, 1], c='gold', s=s,\n",
    "                edgecolors='k')\n",
    "plt.axis('tight')\n",
    "plt.xlim((-5, 5))\n",
    "plt.ylim((-5, 5))\n",
    "plt.legend([a.collections[0], b1, b2, c],\n",
    "           [\"learned frontier\", \"training observations\",\n",
    "            \"new regular observations\", \"new abnormal observations\"],\n",
    "           loc=\"upper left\",\n",
    "           prop=matplotlib.font_manager.FontProperties(size=11))\n",
    "plt.xlabel(\n",
    "    \"error train: %d/200 ; errors novel regular: %d/40 ; \"\n",
    "    \"errors novel abnormal: %d/40\"\n",
    "    % (n_error_train, n_error_test, n_error_outliers))\n",
    "plt.show()"
   ]
  },
  {
   "cell_type": "code",
   "execution_count": null,
   "metadata": {},
   "outputs": [],
   "source": []
  }
 ],
 "metadata": {
  "colab": {
   "collapsed_sections": [],
   "name": "q4.ipynb",
   "provenance": [],
   "toc_visible": true
  },
  "kernelspec": {
   "display_name": "Python 3",
   "language": "python",
   "name": "python3"
  },
  "language_info": {
   "codemirror_mode": {
    "name": "ipython",
    "version": 3
   },
   "file_extension": ".py",
   "mimetype": "text/x-python",
   "name": "python",
   "nbconvert_exporter": "python",
   "pygments_lexer": "ipython3",
   "version": "3.8.3"
  }
 },
 "nbformat": 4,
 "nbformat_minor": 1
}
